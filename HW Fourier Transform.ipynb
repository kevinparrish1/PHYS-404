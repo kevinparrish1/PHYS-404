{
 "cells": [
  {
   "cell_type": "code",
   "execution_count": 52,
   "metadata": {},
   "outputs": [
    {
     "data": {
      "image/png": "[encoded data removed]",
      "text/plain": [
       "<matplotlib.figure.Figure at 0x2918ccd96d8>"
      ]
     },
     "metadata": {},
     "output_type": "display_data"
    },
    {
     "data": {
      "image/png": "[encoded data removed]",
      "text/plain": [
       "<matplotlib.figure.Figure at 0x2918cb20da0>"
      ]
     },
     "metadata": {},
     "output_type": "display_data"
    }
   ],
   "source": [
    "# DFTcomplex.py:  Discrete Fourier Transform with built in complex\n",
    "from numpy import *\n",
    "import matplotlib.pyplot as plt\n",
    "import cmath                                            # complex math\n",
    "    \n",
    "########################################################################\n",
    "#calculating the numerical solution to d2x/dx**2=-0.01x^11\n",
    "#solution is stored in yp\n",
    "a = 0.\n",
    "b = 0.43\n",
    "n = 500                                         \n",
    "ydumb = zeros((2), float);    y = zeros((2), float)\n",
    "fReturn = zeros((2), float);  k1 = zeros((2), float)\n",
    "k2 = zeros((2), float);       k3 = zeros((2), float) \n",
    "k4 = zeros((2), float)\n",
    "y[0] = 3.;   y[1] = -5.\n",
    "t = a;       h = (b-a)/n;\n",
    "xp=array([0.0])\n",
    "yp=array([y[0]])\n",
    "\n",
    "def f( t, y):                                           # Force function \n",
    "    fReturn[0] = y[1]                                           \n",
    "    fReturn[1] = -0.01*y[0]**11     \n",
    "    return fReturn\n",
    "\n",
    "def rk4(t,h,n):                 \n",
    "    k1 = [0]*(n)\n",
    "    k2 = [0]*(n)\n",
    "    k3 = [0]*(n)\n",
    "    k4 = [0]*(n)\n",
    "    fR = [0]*(n)\n",
    "    ydumb = [0]*(n)\n",
    "    fR = f(t, y)                                            # Returns RHS's  \n",
    "    for i in range(0, n):\n",
    "       k1[i] = h*fR[i]                             \n",
    "    for i in range(0, n):\n",
    "        ydumb[i] = y[i] + k1[i]/2. \n",
    "    k2 = h*f(t+h/2., ydumb) \n",
    "    for i in range(0, n):\n",
    "        ydumb[i] = y[i] + k2[i]/2. \n",
    "    k3 = h*f(t+h/2., ydumb)\n",
    "    for i in range(0, n):\n",
    "        ydumb[i] = y[i] + k3[i] \n",
    "    k4 = h*f(t+h, ydumb) \n",
    "    for i in range(0, 2):\n",
    "        y[i] = y[i] + (k1[i] + 2.*(k2[i] + k3[i]) + k4[i])/6.\n",
    "    return y    \n",
    "\n",
    "while (t < b):                                              # Time loop\n",
    "    if ((t + h) > b):\n",
    "        h = b - t                                           # Last step\n",
    "    y = rk4(t,h,2)\n",
    "    t = t + h\n",
    "    xp=append(xp, t)\n",
    "    yp=append(yp,y[0])\n",
    "############################################################################\n",
    "#Doing the Discrete Transform on the solution y(t)\n",
    "\n",
    "    \n",
    "    \n",
    "N = 501;                  Np = N                           \n",
    "signal = zeros( (N+1), float )     \n",
    "twopi  = 2.*pi;       sq2pi = 1./sqrt(twopi);         h = twopi/N\n",
    "dftz   = zeros( (Np), complex )                  # Complex elements\n",
    "xa = zeros( (N+1), float )   \n",
    "nplot = zeros( N, float )   \n",
    "fplot = zeros( N, float ) \n",
    "\n",
    "        \n",
    "\n",
    "def fourier(dftz):                                              # DFT\n",
    "    for n in range(0, Np):              \n",
    "      zsum = complex(0.0, 0.0)                \n",
    "      for  k in range(0, N):                              \n",
    "          zexpo = complex(0, twopi*k*n/N)           # Complex exponent\n",
    "          zsum += yp[k]*exp(-zexpo)\n",
    "      dftz[n] = zsum * sq2pi      \n",
    "      nplot[n] = n\n",
    "      fplot[n] = sqrt(dftz[n].imag*dftz[n].imag+dftz[n].real*dftz[n].real)\n",
    "\n",
    "       \n",
    "fourier(dftz)              # Call signal, transform\n",
    "plt.plot(xp,yp)\n",
    "plt.show()\n",
    "plt.plot(nplot,fplot)\n",
    "plt.show()\n",
    "\n",
    "\n"
   ]
  },
  {
   "cell_type": "code",
   "execution_count": null,
   "metadata": {},
   "outputs": [],
   "source": []
  }
 ],
 "metadata": {
  "kernelspec": {
   "display_name": "Python 3",
   "language": "python",
   "name": "python3"
  },
  "language_info": {
   "codemirror_mode": {
    "name": "ipython",
    "version": 3
   },
   "file_extension": ".py",
   "mimetype": "text/x-python",
   "name": "python",
   "nbconvert_exporter": "python",
   "pygments_lexer": "ipython3",
   "version": "3.6.3"
  }
 },
 "nbformat": 4,
 "nbformat_minor": 2
}
