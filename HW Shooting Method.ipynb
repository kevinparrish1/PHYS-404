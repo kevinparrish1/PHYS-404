{
 "cells": [
  {
   "cell_type": "code",
   "execution_count": 2,
   "metadata": {},
   "outputs": [
    {
     "name": "stdout",
     "output_type": "stream",
     "text": [
      "iter  0  shoot point, target 1.066666666725682\n",
      "iter  1  shoot point, target 0.9333333333849596\n",
      "iter  2  shoot point, target 1.0000000000553098\n",
      "iter  3  shoot point, target 0.9666666667201277\n",
      "iter  4  shoot point, target 0.9833333333877328\n",
      "iter  5  shoot point, target 0.9916666667215209\n",
      "iter  6  shoot point, target 0.9958333333884153\n",
      "iter  7  shoot point, target 0.9979166667218614\n",
      "iter  8  shoot point, target 0.9989583333885909\n",
      "iter  9  shoot point, target 0.9994791667219575\n",
      "iter  10  shoot point, target 0.9997395833886364\n",
      "iter  11  shoot point, target 0.9998697917219651\n",
      "iter  12  shoot point, target 0.9999348958886568\n",
      "iter  13  shoot point, target 0.9999674479719792\n",
      "iter  14  shoot point, target 0.9999837240136403\n",
      "iter  15  shoot point, target 0.9999918620344727\n",
      "iter  16  shoot point, target 0.9999959310449014\n",
      "iter  17  shoot point, target 0.9999979655501144\n",
      "iter  18  shoot point, target 0.9999989828027005\n",
      "iter  19  shoot point, target 0.999999491429011\n",
      "iter  20  shoot point, target 0.9999997457421635\n",
      "iter  21  shoot point, target 0.9999998728987375\n",
      "iter  22  shoot point, target 0.9999999364770211\n",
      "iter  23  shoot point, target 0.9999999682661773\n",
      "iter  24  shoot point, target 0.9999999841607274\n",
      "iter  25  shoot point, target 0.9999999921080124\n",
      "iter  26  shoot point, target 0.9999999960816593\n",
      "iter  27  shoot point, target 0.9999999980684898\n",
      "iter  28  shoot point, target 0.9999999990618769\n",
      "iter  29  shoot point, target 0.9999999995586139\n",
      "iter  30  shoot point, target 0.9999999998069448\n",
      "iter  31  shoot point, target 0.9999999999311421\n",
      "iter  32  shoot point, target 0.9999999999932266\n",
      "iter  33  shoot point, target 1.0000000000242688\n",
      "iter  34  shoot point, target 1.0000000000087474\n",
      "iter  35  shoot point, target 1.0000000000009872\n",
      "iter  36  shoot point, target 0.9999999999971099\n",
      "iter  37  shoot point, target 0.999999999999062\n",
      "iter  38  shoot point, target 1.0000000000000104\n",
      "iter  39  shoot point, target 0.9999999999995209\n",
      "iter  40  shoot point, target 0.999999999999781\n",
      "iter  41  shoot point, target 0.9999999999999031\n",
      "iter  42  shoot point, target 0.9999999999999574\n",
      "iter  43  shoot point, target 0.9999999999999791\n",
      "error is 3.885780586188048e-15\n"
     ]
    },
    {
     "data": {
      "image/png": "[encoded data removed]",
      "text/plain": [
       "<matplotlib.figure.Figure at 0x1666a8bb550>"
      ]
     },
     "metadata": {},
     "output_type": "display_data"
    }
   ],
   "source": [
    "import numpy as np\n",
    "import matplotlib.pyplot as plt\n",
    "\n",
    "tend=1 #The goal\n",
    "h=1.e-4 #reasonable step size\n",
    "n=5 #the degree of the legendre polynomial\n",
    "t=0\n",
    "\n",
    "def rk4(t, h, y, n): #the implementation of the RK4 method. This calculates the new y and y' values.\n",
    "    k1 = np.zeros(n)\n",
    "    k2 = np.zeros(n)\n",
    "    k3 = np.zeros(n)\n",
    "    k4 = np.zeros(n)\n",
    "    k1=h*f(t,y)\n",
    "    k2=h*f(t+0.5*h,y+0.5*k1)\n",
    "    k3=h*f(t+0.5*h,y+0.5*k2)\n",
    "    k4=h*f(t+h,y+k3)\n",
    "    y+=(k1+2.*(k2+k3)+k4)/6.\n",
    "    return y\n",
    "\n",
    "def f(t, y): #the implementation of the polynomial function.\n",
    "    f=np.zeros(2)\n",
    "    f[0]=y[1]\n",
    "    f[1]=(1/(1-t*t))*(2*t*y[1]-(n*(n+1)*y[0]))\n",
    "    return f\n",
    "\n",
    "\n",
    "maxiter=100\n",
    "vymin=1.5 #first two guesses for the y value. Will use bisection method to narrow it down\n",
    "vymax=2.5\n",
    "for i in range (maxiter):\n",
    "    vy=(vymin+vymax)/2. #bisection method\n",
    "    y=[0., vy]\n",
    "    t=0.\n",
    "    yp=[] #the y axis\n",
    "    tp=[] #the abscissa time axis\n",
    "    while(t<tend): \n",
    "        if(t+h>tend): #makes sure the very last t value doesn't force a 1/0 calculation\n",
    "            break\n",
    "        y = rk4(t,h,y,2)\n",
    "        yp=np.append(yp,y[0])\n",
    "        tp=np.append(tp,t)\n",
    "        t = t+h\n",
    "    if(np.abs(y[0]-1.)<(10.e-15)): #keeps going until a 10e-15 error\n",
    "        print('error is',np.abs(y[0]-1.))\n",
    "        break\n",
    "    if y[0]>1:\n",
    "        vymax=(vymax+vymin)/2.\n",
    "    else:\n",
    "        vymin=(vymax+vymin)/2.\n",
    "    print(\"iter \",i, \" shoot point, target\",y[0],)\n",
    "\n",
    "plt.plot(tp,yp)\n",
    "plt.show()"
   ]
  },
  {
   "cell_type": "code",
   "execution_count": null,
   "metadata": {},
   "outputs": [],
   "source": []
  },
  {
   "cell_type": "code",
   "execution_count": null,
   "metadata": {},
   "outputs": [],
   "source": []
  }
 ],
 "metadata": {
  "kernelspec": {
   "display_name": "Python 3",
   "language": "python",
   "name": "python3"
  },
  "language_info": {
   "codemirror_mode": {
    "name": "ipython",
    "version": 3
   },
   "file_extension": ".py",
   "mimetype": "text/x-python",
   "name": "python",
   "nbconvert_exporter": "python",
   "pygments_lexer": "ipython3",
   "version": "3.6.3"
  }
 },
 "nbformat": 4,
 "nbformat_minor": 2
}
